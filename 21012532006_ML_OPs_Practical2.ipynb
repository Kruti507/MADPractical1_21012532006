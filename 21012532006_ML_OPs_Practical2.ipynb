{
  "nbformat": 4,
  "nbformat_minor": 0,
  "metadata": {
    "colab": {
      "provenance": [],
      "authorship_tag": "ABX9TyOWhSFgOL/I1qYVyTdZ7kVc",
      "include_colab_link": true
    },
    "kernelspec": {
      "name": "python3",
      "display_name": "Python 3"
    },
    "language_info": {
      "name": "python"
    }
  },
  "cells": [
    {
      "cell_type": "markdown",
      "metadata": {
        "id": "view-in-github",
        "colab_type": "text"
      },
      "source": [
        "<a href=\"https://colab.research.google.com/github/Kruti507/MADPractical1_21012532006/blob/master/21012532006_ML_OPs_Practical2.ipynb\" target=\"_parent\"><img src=\"https://colab.research.google.com/assets/colab-badge.svg\" alt=\"Open In Colab\"/></a>"
      ]
    },
    {
      "cell_type": "code",
      "source": [
        "import numpy as np\n",
        "print(np.__version__)"
      ],
      "metadata": {
        "colab": {
          "base_uri": "https://localhost:8080/"
        },
        "id": "W7iQCigDAghG",
        "outputId": "8df5560b-cd69-4539-e4a9-f18637fd7da5"
      },
      "execution_count": 5,
      "outputs": [
        {
          "output_type": "stream",
          "name": "stdout",
          "text": [
            "1.23.5\n"
          ]
        }
      ]
    },
    {
      "cell_type": "code",
      "source": [
        "import sklearn\n",
        "print(sklearn.__version__)"
      ],
      "metadata": {
        "colab": {
          "base_uri": "https://localhost:8080/"
        },
        "id": "y5ofzJQ9A1cd",
        "outputId": "0c5806c7-da6b-4e5b-8dec-e2b13ea4a365"
      },
      "execution_count": 6,
      "outputs": [
        {
          "output_type": "stream",
          "name": "stdout",
          "text": [
            "1.2.2\n"
          ]
        }
      ]
    },
    {
      "cell_type": "code",
      "source": [
        "import matplotlib\n",
        "print(matplotlib.__version__)"
      ],
      "metadata": {
        "colab": {
          "base_uri": "https://localhost:8080/"
        },
        "id": "5U6828fYA9j_",
        "outputId": "81a681f4-eb09-48de-99e8-e6cf8a816df2"
      },
      "execution_count": 7,
      "outputs": [
        {
          "output_type": "stream",
          "name": "stdout",
          "text": [
            "3.7.1\n"
          ]
        }
      ]
    },
    {
      "cell_type": "code",
      "source": [
        "import pandas\n",
        "print(pandas.__version__)"
      ],
      "metadata": {
        "colab": {
          "base_uri": "https://localhost:8080/"
        },
        "id": "VZ68JulrBE-j",
        "outputId": "21e3e622-bf70-4821-b240-38a50feb8cba"
      },
      "execution_count": 8,
      "outputs": [
        {
          "output_type": "stream",
          "name": "stdout",
          "text": [
            "1.5.3\n"
          ]
        }
      ]
    },
    {
      "cell_type": "code",
      "source": [
        "import numpy as np\n",
        "from sklearn.preprocessing import StandardScaler\n",
        "import joblib\n",
        "\n",
        "data = np.genfromtxt('/content/Sample.txt', delimiter=',')\n",
        "\n",
        "scaler = StandardScaler()\n",
        "scaled_data = scaler.fit_transform(data)\n",
        "\n",
        "joblib.dump(scaler, 'scaler_object.joblib')\n"
      ],
      "metadata": {
        "colab": {
          "base_uri": "https://localhost:8080/"
        },
        "id": "oaXTPE0lSAPE",
        "outputId": "fd5b2dae-7a31-4553-9b2b-f200b32a506c"
      },
      "execution_count": null,
      "outputs": [
        {
          "output_type": "execute_result",
          "data": {
            "text/plain": [
              "['scaler_object.joblib']"
            ]
          },
          "metadata": {},
          "execution_count": 1
        }
      ]
    },
    {
      "cell_type": "code",
      "source": [
        "from sklearn.model_selection import train_test_split\n",
        "\n",
        "# Split the data into training and testing sets\n",
        "train_data, test_data = train_test_split(scaled_data, test_size=0.2, random_state=42)\n"
      ],
      "metadata": {
        "id": "bhSUa6qbbLEl"
      },
      "execution_count": null,
      "outputs": []
    },
    {
      "cell_type": "code",
      "source": [
        "np.save('train_data.npy', train_data)\n",
        "np.save('test_data.npy', test_data)"
      ],
      "metadata": {
        "id": "jb_1KpkJbQFe"
      },
      "execution_count": null,
      "outputs": []
    },
    {
      "cell_type": "code",
      "source": [
        "from sklearn.linear_model import LinearRegression\n",
        "import joblib\n",
        "\n",
        "X_train = train_data[:, :-1]\n",
        "y_train = train_data[:, -1]\n",
        "\n",
        "model = LinearRegression()\n",
        "model.fit(X_train, y_train)\n",
        "\n",
        "X_test = test_data[:, :-1]\n",
        "y_test = test_data[:, -1]\n",
        "\n",
        "predictions = model.predict(X_test)\n",
        "\n",
        "joblib.dump(model, 'linear_regression_model.joblib')\n",
        "\n",
        "loaded_model = joblib.load('linear_regression_model.joblib')\n",
        "loaded_predictions = loaded_model.predict(X_test)\n",
        "\n",
        "if np.array_equal(predictions, loaded_predictions):\n",
        "    print(\"Output : Predictions match!\")\n",
        "else:\n",
        "    print(\"Output : Predictions differ!\")"
      ],
      "metadata": {
        "colab": {
          "base_uri": "https://localhost:8080/"
        },
        "id": "SNG0oL8bbZ7q",
        "outputId": "8899fc72-5213-4ef6-e6e3-c303467cf809"
      },
      "execution_count": null,
      "outputs": [
        {
          "output_type": "stream",
          "name": "stdout",
          "text": [
            "Output : Predictions match!\n"
          ]
        }
      ]
    }
  ]
}